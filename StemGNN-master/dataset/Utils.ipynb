{
 "cells": [
  {
   "cell_type": "code",
   "execution_count": 42,
   "id": "1422b3d7-9cc6-4b52-a911-2e9e4f68c2ac",
   "metadata": {},
   "outputs": [],
   "source": [
    "import pandas as pd\n",
    "import numpy as np"
   ]
  },
  {
   "cell_type": "code",
   "execution_count": 43,
   "id": "41bd97af-2aa0-4887-a67c-15b6953f26ff",
   "metadata": {},
   "outputs": [],
   "source": [
    "df = pd.read_excel('hal.xlsx')"
   ]
  },
  {
   "cell_type": "code",
   "execution_count": 44,
   "id": "e8cc209c-59f8-46eb-b9bd-2811ef54d62c",
   "metadata": {},
   "outputs": [
    {
     "data": {
      "text/html": [
       "<div>\n",
       "<style scoped>\n",
       "    .dataframe tbody tr th:only-of-type {\n",
       "        vertical-align: middle;\n",
       "    }\n",
       "\n",
       "    .dataframe tbody tr th {\n",
       "        vertical-align: top;\n",
       "    }\n",
       "\n",
       "    .dataframe thead th {\n",
       "        text-align: right;\n",
       "    }\n",
       "</style>\n",
       "<table border=\"1\" class=\"dataframe\">\n",
       "  <thead>\n",
       "    <tr style=\"text-align: right;\">\n",
       "      <th></th>\n",
       "      <th>Sayı</th>\n",
       "      <th>Tarih</th>\n",
       "      <th>PepperPrice</th>\n",
       "      <th>PepperVolume</th>\n",
       "      <th>TomatoPrice</th>\n",
       "      <th>TomatoVolume</th>\n",
       "      <th>PumpkinPrice</th>\n",
       "      <th>PumpkinVolume</th>\n",
       "      <th>CucumberPrice</th>\n",
       "      <th>CucumberVolume</th>\n",
       "    </tr>\n",
       "  </thead>\n",
       "  <tbody>\n",
       "    <tr>\n",
       "      <th>0</th>\n",
       "      <td>0</td>\n",
       "      <td>2018-01-01</td>\n",
       "      <td>1.44</td>\n",
       "      <td>332628</td>\n",
       "      <td>1.50</td>\n",
       "      <td>4171307.0</td>\n",
       "      <td>1.25</td>\n",
       "      <td>447317</td>\n",
       "      <td>1.37</td>\n",
       "      <td>1605149.0</td>\n",
       "    </tr>\n",
       "    <tr>\n",
       "      <th>1</th>\n",
       "      <td>1</td>\n",
       "      <td>2018-01-02</td>\n",
       "      <td>1.63</td>\n",
       "      <td>424452</td>\n",
       "      <td>1.57</td>\n",
       "      <td>3738887.0</td>\n",
       "      <td>1.25</td>\n",
       "      <td>311113</td>\n",
       "      <td>1.61</td>\n",
       "      <td>1470628.0</td>\n",
       "    </tr>\n",
       "    <tr>\n",
       "      <th>2</th>\n",
       "      <td>2</td>\n",
       "      <td>2018-01-03</td>\n",
       "      <td>1.80</td>\n",
       "      <td>784322</td>\n",
       "      <td>1.91</td>\n",
       "      <td>6983082.0</td>\n",
       "      <td>1.35</td>\n",
       "      <td>857570</td>\n",
       "      <td>1.86</td>\n",
       "      <td>2409035.0</td>\n",
       "    </tr>\n",
       "    <tr>\n",
       "      <th>3</th>\n",
       "      <td>3</td>\n",
       "      <td>2018-01-04</td>\n",
       "      <td>1.86</td>\n",
       "      <td>832797</td>\n",
       "      <td>1.90</td>\n",
       "      <td>7541685.0</td>\n",
       "      <td>1.43</td>\n",
       "      <td>865343</td>\n",
       "      <td>2.08</td>\n",
       "      <td>2121188.0</td>\n",
       "    </tr>\n",
       "    <tr>\n",
       "      <th>4</th>\n",
       "      <td>4</td>\n",
       "      <td>2018-01-05</td>\n",
       "      <td>1.86</td>\n",
       "      <td>823662</td>\n",
       "      <td>1.74</td>\n",
       "      <td>7487367.0</td>\n",
       "      <td>1.50</td>\n",
       "      <td>867172</td>\n",
       "      <td>1.85</td>\n",
       "      <td>2194635.0</td>\n",
       "    </tr>\n",
       "  </tbody>\n",
       "</table>\n",
       "</div>"
      ],
      "text/plain": [
       "   Sayı      Tarih  PepperPrice  PepperVolume  TomatoPrice  TomatoVolume  \\\n",
       "0     0 2018-01-01         1.44        332628         1.50     4171307.0   \n",
       "1     1 2018-01-02         1.63        424452         1.57     3738887.0   \n",
       "2     2 2018-01-03         1.80        784322         1.91     6983082.0   \n",
       "3     3 2018-01-04         1.86        832797         1.90     7541685.0   \n",
       "4     4 2018-01-05         1.86        823662         1.74     7487367.0   \n",
       "\n",
       "   PumpkinPrice  PumpkinVolume  CucumberPrice  CucumberVolume  \n",
       "0          1.25         447317           1.37       1605149.0  \n",
       "1          1.25         311113           1.61       1470628.0  \n",
       "2          1.35         857570           1.86       2409035.0  \n",
       "3          1.43         865343           2.08       2121188.0  \n",
       "4          1.50         867172           1.85       2194635.0  "
      ]
     },
     "execution_count": 44,
     "metadata": {},
     "output_type": "execute_result"
    }
   ],
   "source": [
    "df.head()"
   ]
  },
  {
   "cell_type": "code",
   "execution_count": 45,
   "id": "a3b44aa1-e54f-43fb-997e-3d7ebc8cb574",
   "metadata": {},
   "outputs": [],
   "source": [
    "df = df.drop(columns=['Sayı', 'Tarih'])"
   ]
  },
  {
   "cell_type": "code",
   "execution_count": 46,
   "id": "9d7ee6af-762d-4e11-88ad-03fc1e340d3d",
   "metadata": {},
   "outputs": [
    {
     "data": {
      "text/html": [
       "<div>\n",
       "<style scoped>\n",
       "    .dataframe tbody tr th:only-of-type {\n",
       "        vertical-align: middle;\n",
       "    }\n",
       "\n",
       "    .dataframe tbody tr th {\n",
       "        vertical-align: top;\n",
       "    }\n",
       "\n",
       "    .dataframe thead th {\n",
       "        text-align: right;\n",
       "    }\n",
       "</style>\n",
       "<table border=\"1\" class=\"dataframe\">\n",
       "  <thead>\n",
       "    <tr style=\"text-align: right;\">\n",
       "      <th></th>\n",
       "      <th>PepperPrice</th>\n",
       "      <th>PepperVolume</th>\n",
       "      <th>TomatoPrice</th>\n",
       "      <th>TomatoVolume</th>\n",
       "      <th>PumpkinPrice</th>\n",
       "      <th>PumpkinVolume</th>\n",
       "      <th>CucumberPrice</th>\n",
       "      <th>CucumberVolume</th>\n",
       "    </tr>\n",
       "  </thead>\n",
       "  <tbody>\n",
       "    <tr>\n",
       "      <th>0</th>\n",
       "      <td>1.44</td>\n",
       "      <td>332628</td>\n",
       "      <td>1.50</td>\n",
       "      <td>4171307.0</td>\n",
       "      <td>1.25</td>\n",
       "      <td>447317</td>\n",
       "      <td>1.37</td>\n",
       "      <td>1605149.0</td>\n",
       "    </tr>\n",
       "    <tr>\n",
       "      <th>1</th>\n",
       "      <td>1.63</td>\n",
       "      <td>424452</td>\n",
       "      <td>1.57</td>\n",
       "      <td>3738887.0</td>\n",
       "      <td>1.25</td>\n",
       "      <td>311113</td>\n",
       "      <td>1.61</td>\n",
       "      <td>1470628.0</td>\n",
       "    </tr>\n",
       "    <tr>\n",
       "      <th>2</th>\n",
       "      <td>1.80</td>\n",
       "      <td>784322</td>\n",
       "      <td>1.91</td>\n",
       "      <td>6983082.0</td>\n",
       "      <td>1.35</td>\n",
       "      <td>857570</td>\n",
       "      <td>1.86</td>\n",
       "      <td>2409035.0</td>\n",
       "    </tr>\n",
       "    <tr>\n",
       "      <th>3</th>\n",
       "      <td>1.86</td>\n",
       "      <td>832797</td>\n",
       "      <td>1.90</td>\n",
       "      <td>7541685.0</td>\n",
       "      <td>1.43</td>\n",
       "      <td>865343</td>\n",
       "      <td>2.08</td>\n",
       "      <td>2121188.0</td>\n",
       "    </tr>\n",
       "    <tr>\n",
       "      <th>4</th>\n",
       "      <td>1.86</td>\n",
       "      <td>823662</td>\n",
       "      <td>1.74</td>\n",
       "      <td>7487367.0</td>\n",
       "      <td>1.50</td>\n",
       "      <td>867172</td>\n",
       "      <td>1.85</td>\n",
       "      <td>2194635.0</td>\n",
       "    </tr>\n",
       "  </tbody>\n",
       "</table>\n",
       "</div>"
      ],
      "text/plain": [
       "   PepperPrice  PepperVolume  TomatoPrice  TomatoVolume  PumpkinPrice  \\\n",
       "0         1.44        332628         1.50     4171307.0          1.25   \n",
       "1         1.63        424452         1.57     3738887.0          1.25   \n",
       "2         1.80        784322         1.91     6983082.0          1.35   \n",
       "3         1.86        832797         1.90     7541685.0          1.43   \n",
       "4         1.86        823662         1.74     7487367.0          1.50   \n",
       "\n",
       "   PumpkinVolume  CucumberPrice  CucumberVolume  \n",
       "0         447317           1.37       1605149.0  \n",
       "1         311113           1.61       1470628.0  \n",
       "2         857570           1.86       2409035.0  \n",
       "3         865343           2.08       2121188.0  \n",
       "4         867172           1.85       2194635.0  "
      ]
     },
     "execution_count": 46,
     "metadata": {},
     "output_type": "execute_result"
    }
   ],
   "source": [
    "df.head()"
   ]
  },
  {
   "cell_type": "code",
   "execution_count": 47,
   "id": "7b80daf2-2bbe-4cdf-8ffa-b417302bad41",
   "metadata": {},
   "outputs": [],
   "source": [
    "from sklearn.preprocessing import MinMaxScaler"
   ]
  },
  {
   "cell_type": "code",
   "execution_count": 48,
   "id": "a91e5e2e-cdc4-4942-b173-e6f80250f1d1",
   "metadata": {},
   "outputs": [],
   "source": [
    "scaler = MinMaxScaler()\n",
    "data = df['PepperPrice'].to_numpy()\n",
    "data = data.reshape(-1, 1)\n",
    "scaler.fit(data)\n",
    "df['PepperPrice'] = scaler.transform(data)"
   ]
  },
  {
   "cell_type": "code",
   "execution_count": 49,
   "id": "c62c729a-d9b3-45d4-a2dc-8f9ddffc5c88",
   "metadata": {},
   "outputs": [],
   "source": [
    "scaler = MinMaxScaler()\n",
    "data = df['PepperVolume'].to_numpy()\n",
    "data = data.reshape(-1, 1)\n",
    "scaler.fit(data)\n",
    "df['PepperVolume'] = scaler.transform(data)"
   ]
  },
  {
   "cell_type": "code",
   "execution_count": 50,
   "id": "d46c307e-6741-40bd-8b65-13b86e14d203",
   "metadata": {},
   "outputs": [],
   "source": [
    "scaler = MinMaxScaler()\n",
    "data = df['TomatoPrice'].to_numpy()\n",
    "data = data.reshape(-1, 1)\n",
    "scaler.fit(data)\n",
    "df['TomatoPrice'] = scaler.transform(data)"
   ]
  },
  {
   "cell_type": "code",
   "execution_count": 51,
   "id": "39f4bd43-db35-4192-9e2c-09ca620282a6",
   "metadata": {},
   "outputs": [],
   "source": [
    "scaler = MinMaxScaler()\n",
    "data = df['TomatoVolume'].to_numpy()\n",
    "data = data.reshape(-1, 1)\n",
    "scaler.fit(data)\n",
    "df['TomatoVolume'] = scaler.transform(data)"
   ]
  },
  {
   "cell_type": "code",
   "execution_count": 52,
   "id": "2ea5321b-5200-4c95-bde9-b036e618116f",
   "metadata": {},
   "outputs": [],
   "source": [
    "scaler = MinMaxScaler()\n",
    "data = df['PumpkinPrice'].to_numpy()\n",
    "data = data.reshape(-1, 1)\n",
    "scaler.fit(data)\n",
    "df['PumpkinPrice'] = scaler.transform(data)"
   ]
  },
  {
   "cell_type": "code",
   "execution_count": 53,
   "id": "8d3a88fd-3562-43ce-9fd9-28bd18b4ac9c",
   "metadata": {},
   "outputs": [],
   "source": [
    "scaler = MinMaxScaler()\n",
    "data = df['PumpkinVolume'].to_numpy()\n",
    "data = data.reshape(-1, 1)\n",
    "scaler.fit(data)\n",
    "df['PumpkinVolume'] = scaler.transform(data)"
   ]
  },
  {
   "cell_type": "code",
   "execution_count": 54,
   "id": "09592842-858b-470d-b4bf-1fff58bed20b",
   "metadata": {},
   "outputs": [],
   "source": [
    "scaler = MinMaxScaler()\n",
    "data = df['CucumberPrice'].to_numpy()\n",
    "data = data.reshape(-1, 1)\n",
    "scaler.fit(data)\n",
    "df['CucumberPrice'] = scaler.transform(data)"
   ]
  },
  {
   "cell_type": "code",
   "execution_count": 55,
   "id": "ee381f42-2820-44d0-a0f4-967b357e405a",
   "metadata": {},
   "outputs": [],
   "source": [
    "scaler = MinMaxScaler()\n",
    "data = df['CucumberVolume'].to_numpy()\n",
    "data = data.reshape(-1, 1)\n",
    "scaler.fit(data)\n",
    "df['CucumberVolume'] = scaler.transform(data)"
   ]
  },
  {
   "cell_type": "code",
   "execution_count": 56,
   "id": "ed018640-ec1e-4603-bb63-b41f20237d71",
   "metadata": {},
   "outputs": [
    {
     "data": {
      "text/html": [
       "<div>\n",
       "<style scoped>\n",
       "    .dataframe tbody tr th:only-of-type {\n",
       "        vertical-align: middle;\n",
       "    }\n",
       "\n",
       "    .dataframe tbody tr th {\n",
       "        vertical-align: top;\n",
       "    }\n",
       "\n",
       "    .dataframe thead th {\n",
       "        text-align: right;\n",
       "    }\n",
       "</style>\n",
       "<table border=\"1\" class=\"dataframe\">\n",
       "  <thead>\n",
       "    <tr style=\"text-align: right;\">\n",
       "      <th></th>\n",
       "      <th>PepperPrice</th>\n",
       "      <th>PepperVolume</th>\n",
       "      <th>TomatoPrice</th>\n",
       "      <th>TomatoVolume</th>\n",
       "      <th>PumpkinPrice</th>\n",
       "      <th>PumpkinVolume</th>\n",
       "      <th>CucumberPrice</th>\n",
       "      <th>CucumberVolume</th>\n",
       "    </tr>\n",
       "  </thead>\n",
       "  <tbody>\n",
       "    <tr>\n",
       "      <th>0</th>\n",
       "      <td>0.030449</td>\n",
       "      <td>0.057616</td>\n",
       "      <td>0.070470</td>\n",
       "      <td>0.157004</td>\n",
       "      <td>0.067556</td>\n",
       "      <td>0.052136</td>\n",
       "      <td>0.086739</td>\n",
       "      <td>0.194872</td>\n",
       "    </tr>\n",
       "    <tr>\n",
       "      <th>1</th>\n",
       "      <td>0.038061</td>\n",
       "      <td>0.073581</td>\n",
       "      <td>0.076342</td>\n",
       "      <td>0.140720</td>\n",
       "      <td>0.067556</td>\n",
       "      <td>0.036214</td>\n",
       "      <td>0.106756</td>\n",
       "      <td>0.178483</td>\n",
       "    </tr>\n",
       "    <tr>\n",
       "      <th>2</th>\n",
       "      <td>0.044872</td>\n",
       "      <td>0.136154</td>\n",
       "      <td>0.104866</td>\n",
       "      <td>0.262887</td>\n",
       "      <td>0.075897</td>\n",
       "      <td>0.100093</td>\n",
       "      <td>0.127606</td>\n",
       "      <td>0.292807</td>\n",
       "    </tr>\n",
       "    <tr>\n",
       "      <th>3</th>\n",
       "      <td>0.047276</td>\n",
       "      <td>0.144582</td>\n",
       "      <td>0.104027</td>\n",
       "      <td>0.283923</td>\n",
       "      <td>0.082569</td>\n",
       "      <td>0.101002</td>\n",
       "      <td>0.145955</td>\n",
       "      <td>0.257739</td>\n",
       "    </tr>\n",
       "    <tr>\n",
       "      <th>4</th>\n",
       "      <td>0.047276</td>\n",
       "      <td>0.142994</td>\n",
       "      <td>0.090604</td>\n",
       "      <td>0.281877</td>\n",
       "      <td>0.088407</td>\n",
       "      <td>0.101216</td>\n",
       "      <td>0.126772</td>\n",
       "      <td>0.266687</td>\n",
       "    </tr>\n",
       "  </tbody>\n",
       "</table>\n",
       "</div>"
      ],
      "text/plain": [
       "   PepperPrice  PepperVolume  TomatoPrice  TomatoVolume  PumpkinPrice  \\\n",
       "0     0.030449      0.057616     0.070470      0.157004      0.067556   \n",
       "1     0.038061      0.073581     0.076342      0.140720      0.067556   \n",
       "2     0.044872      0.136154     0.104866      0.262887      0.075897   \n",
       "3     0.047276      0.144582     0.104027      0.283923      0.082569   \n",
       "4     0.047276      0.142994     0.090604      0.281877      0.088407   \n",
       "\n",
       "   PumpkinVolume  CucumberPrice  CucumberVolume  \n",
       "0       0.052136       0.086739        0.194872  \n",
       "1       0.036214       0.106756        0.178483  \n",
       "2       0.100093       0.127606        0.292807  \n",
       "3       0.101002       0.145955        0.257739  \n",
       "4       0.101216       0.126772        0.266687  "
      ]
     },
     "execution_count": 56,
     "metadata": {},
     "output_type": "execute_result"
    }
   ],
   "source": [
    "df.head()"
   ]
  },
  {
   "cell_type": "code",
   "execution_count": 57,
   "id": "7ba9a874-449c-4a6f-8a8a-06d8d52275e1",
   "metadata": {},
   "outputs": [],
   "source": [
    "df[['PepperPrice', 'PepperVolume', 'TomatoPrice', 'TomatoVolume', 'PumpkinPrice','PumpkinVolume', 'CucumberPrice', 'CucumberVolume']] = df[['PepperPrice', 'PepperVolume', 'TomatoPrice', 'TomatoVolume', 'PumpkinPrice','PumpkinVolume', 'CucumberPrice', 'CucumberVolume']].diff(1)\n"
   ]
  },
  {
   "cell_type": "code",
   "execution_count": 58,
   "id": "598cf5a3-f7b7-4321-9083-b073c910a4fb",
   "metadata": {},
   "outputs": [
    {
     "data": {
      "text/plain": [
       "PepperPrice       True\n",
       "PepperVolume      True\n",
       "TomatoPrice       True\n",
       "TomatoVolume      True\n",
       "PumpkinPrice      True\n",
       "PumpkinVolume     True\n",
       "CucumberPrice     True\n",
       "CucumberVolume    True\n",
       "dtype: bool"
      ]
     },
     "execution_count": 58,
     "metadata": {},
     "output_type": "execute_result"
    }
   ],
   "source": [
    "df.isnull().any()"
   ]
  },
  {
   "cell_type": "code",
   "execution_count": 59,
   "id": "5230f8d9-4633-4d69-bbf9-5cf32deb6299",
   "metadata": {},
   "outputs": [],
   "source": [
    "df = df.drop(index=0)"
   ]
  },
  {
   "cell_type": "code",
   "execution_count": 60,
   "id": "c9ab8872-7ee6-4649-b508-b494530871a2",
   "metadata": {},
   "outputs": [
    {
     "data": {
      "text/plain": [
       "PepperPrice       False\n",
       "PepperVolume      False\n",
       "TomatoPrice       False\n",
       "TomatoVolume      False\n",
       "PumpkinPrice      False\n",
       "PumpkinVolume     False\n",
       "CucumberPrice     False\n",
       "CucumberVolume    False\n",
       "dtype: bool"
      ]
     },
     "execution_count": 60,
     "metadata": {},
     "output_type": "execute_result"
    }
   ],
   "source": [
    "df.isnull().any()"
   ]
  },
  {
   "cell_type": "code",
   "execution_count": 61,
   "id": "9972cb5a-3694-4d03-a3f9-11070769aba6",
   "metadata": {},
   "outputs": [
    {
     "data": {
      "text/plain": [
       "<AxesSubplot: >"
      ]
     },
     "execution_count": 61,
     "metadata": {},
     "output_type": "execute_result"
    },
    {
     "data": {
      "image/png": "[encoded data removed]",
      "text/plain": [
       "<Figure size 1500x500 with 1 Axes>"
      ]
     },
     "metadata": {},
     "output_type": "display_data"
    }
   ],
   "source": [
    "df[['PepperPrice', 'PepperVolume', 'TomatoPrice', 'TomatoVolume', 'PumpkinPrice','PumpkinVolume', 'CucumberPrice', 'CucumberVolume']] .plot(figsize=(15,5))"
   ]
  },
  {
   "cell_type": "code",
   "execution_count": 62,
   "id": "47bb54a9-1450-497b-8462-e1ccf6b2694c",
   "metadata": {},
   "outputs": [],
   "source": [
    "bir = df['PepperPrice'].iloc[:10].mean()\n",
    "iki = df['PepperVolume'].iloc[:10].mean()\n",
    "üç = df['TomatoPrice'].iloc[:10].mean()\n",
    "dört = df['TomatoVolume'].iloc[:10].mean()\n",
    "beş = df['PumpkinPrice'].iloc[:10].mean()\n",
    "altı = df['PumpkinVolume'].iloc[:10].mean()\n",
    "yedi = df['CucumberPrice'].iloc[:10].mean()\n",
    "sekiz = df['CucumberVolume'].iloc[:10].mean()"
   ]
  },
  {
   "cell_type": "code",
   "execution_count": 63,
   "id": "b6bae46d-9bfa-4b9f-9c27-742cb7665754",
   "metadata": {},
   "outputs": [],
   "source": [
    "new_header = [bir, iki, üç, dört, beş, altı,  yedi, sekiz]"
   ]
  },
  {
   "cell_type": "code",
   "execution_count": 64,
   "id": "a5bdced3-67cf-408f-bc3d-a030142b8532",
   "metadata": {},
   "outputs": [
    {
     "data": {
      "text/plain": [
       "[0.0007211538461538477,\n",
       " 0.009932575103176886,\n",
       " 0.00041946308724832295,\n",
       " 0.01339526773604834,\n",
       " 0.0014178482068390342,\n",
       " 0.006534718534277131,\n",
       " 0.0038365304420350287,\n",
       " 0.005015239337641297]"
      ]
     },
     "execution_count": 64,
     "metadata": {},
     "output_type": "execute_result"
    }
   ],
   "source": [
    "new_header"
   ]
  },
  {
   "cell_type": "code",
   "execution_count": 65,
   "id": "b6c71c2a-f9bb-4791-8b72-6c211dcd7e1a",
   "metadata": {},
   "outputs": [],
   "source": [
    "#grab the first row for the header\n",
    "df = df[1:] #take the data less the header row\n",
    "df.columns = new_header #set the header row as the df header"
   ]
  },
  {
   "cell_type": "code",
   "execution_count": 66,
   "id": "5ed998f8-cfb3-4c47-9130-833021f289e1",
   "metadata": {},
   "outputs": [
    {
     "data": {
      "text/html": [
       "<div>\n",
       "<style scoped>\n",
       "    .dataframe tbody tr th:only-of-type {\n",
       "        vertical-align: middle;\n",
       "    }\n",
       "\n",
       "    .dataframe tbody tr th {\n",
       "        vertical-align: top;\n",
       "    }\n",
       "\n",
       "    .dataframe thead th {\n",
       "        text-align: right;\n",
       "    }\n",
       "</style>\n",
       "<table border=\"1\" class=\"dataframe\">\n",
       "  <thead>\n",
       "    <tr style=\"text-align: right;\">\n",
       "      <th></th>\n",
       "      <th>0.000721</th>\n",
       "      <th>0.009933</th>\n",
       "      <th>0.000419</th>\n",
       "      <th>0.013395</th>\n",
       "      <th>0.001418</th>\n",
       "      <th>0.006535</th>\n",
       "      <th>0.003837</th>\n",
       "      <th>0.005015</th>\n",
       "    </tr>\n",
       "  </thead>\n",
       "  <tbody>\n",
       "    <tr>\n",
       "      <th>2</th>\n",
       "      <td>0.006811</td>\n",
       "      <td>0.062572</td>\n",
       "      <td>0.028523</td>\n",
       "      <td>0.122167</td>\n",
       "      <td>0.008340</td>\n",
       "      <td>0.063879</td>\n",
       "      <td>0.020851</td>\n",
       "      <td>0.114323</td>\n",
       "    </tr>\n",
       "    <tr>\n",
       "      <th>3</th>\n",
       "      <td>0.002404</td>\n",
       "      <td>0.008429</td>\n",
       "      <td>-0.000839</td>\n",
       "      <td>0.021035</td>\n",
       "      <td>0.006672</td>\n",
       "      <td>0.000909</td>\n",
       "      <td>0.018349</td>\n",
       "      <td>-0.035068</td>\n",
       "    </tr>\n",
       "    <tr>\n",
       "      <th>4</th>\n",
       "      <td>0.000000</td>\n",
       "      <td>-0.001588</td>\n",
       "      <td>-0.013423</td>\n",
       "      <td>-0.002045</td>\n",
       "      <td>0.005838</td>\n",
       "      <td>0.000214</td>\n",
       "      <td>-0.019183</td>\n",
       "      <td>0.008948</td>\n",
       "    </tr>\n",
       "    <tr>\n",
       "      <th>5</th>\n",
       "      <td>0.006410</td>\n",
       "      <td>-0.039452</td>\n",
       "      <td>0.030201</td>\n",
       "      <td>-0.064852</td>\n",
       "      <td>-0.005838</td>\n",
       "      <td>-0.013892</td>\n",
       "      <td>-0.009174</td>\n",
       "      <td>-0.001369</td>\n",
       "    </tr>\n",
       "    <tr>\n",
       "      <th>6</th>\n",
       "      <td>-0.008814</td>\n",
       "      <td>0.036136</td>\n",
       "      <td>-0.026846</td>\n",
       "      <td>0.117925</td>\n",
       "      <td>0.003336</td>\n",
       "      <td>0.028504</td>\n",
       "      <td>0.025021</td>\n",
       "      <td>-0.009450</td>\n",
       "    </tr>\n",
       "  </tbody>\n",
       "</table>\n",
       "</div>"
      ],
      "text/plain": [
       "   0.000721  0.009933  0.000419  0.013395  0.001418  0.006535  0.003837  \\\n",
       "2  0.006811  0.062572  0.028523  0.122167  0.008340  0.063879  0.020851   \n",
       "3  0.002404  0.008429 -0.000839  0.021035  0.006672  0.000909  0.018349   \n",
       "4  0.000000 -0.001588 -0.013423 -0.002045  0.005838  0.000214 -0.019183   \n",
       "5  0.006410 -0.039452  0.030201 -0.064852 -0.005838 -0.013892 -0.009174   \n",
       "6 -0.008814  0.036136 -0.026846  0.117925  0.003336  0.028504  0.025021   \n",
       "\n",
       "   0.005015  \n",
       "2  0.114323  \n",
       "3 -0.035068  \n",
       "4  0.008948  \n",
       "5 -0.001369  \n",
       "6 -0.009450  "
      ]
     },
     "execution_count": 66,
     "metadata": {},
     "output_type": "execute_result"
    }
   ],
   "source": [
    "df.head()\n"
   ]
  },
  {
   "cell_type": "code",
   "execution_count": 67,
   "id": "7c297492-4bb9-42d2-bb92-bda0c5bd256a",
   "metadata": {},
   "outputs": [],
   "source": [
    "df3.to_csv('hal.csv', index=False)"
   ]
  }
 ],
 "metadata": {
  "kernelspec": {
   "display_name": "Python 3 (ipykernel)",
   "language": "python",
   "name": "python3"
  },
  "language_info": {
   "codemirror_mode": {
    "name": "ipython",
    "version": 3
   },
   "file_extension": ".py",
   "mimetype": "text/x-python",
   "name": "python",
   "nbconvert_exporter": "python",
   "pygments_lexer": "ipython3",
   "version": "3.10.8"
  }
 },
 "nbformat": 4,
 "nbformat_minor": 5
}
